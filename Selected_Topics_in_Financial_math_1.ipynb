{
  "nbformat": 4,
  "nbformat_minor": 0,
  "metadata": {
    "colab": {
      "provenance": [],
      "authorship_tag": "ABX9TyM/LKnhS6FlLJ3HPcJ42muQ",
      "include_colab_link": true
    },
    "kernelspec": {
      "name": "python3",
      "display_name": "Python 3"
    },
    "language_info": {
      "name": "python"
    }
  },
  "cells": [
    {
      "cell_type": "markdown",
      "metadata": {
        "id": "view-in-github",
        "colab_type": "text"
      },
      "source": [
        "<a href=\"https://colab.research.google.com/github/Saeed-upm/Selected-Topics-in-Financial-Mathematics/blob/main/Selected_Topics_in_Financial_math_1.ipynb\" target=\"_parent\"><img src=\"https://colab.research.google.com/assets/colab-badge.svg\" alt=\"Open In Colab\"/></a>"
      ]
    },
    {
      "cell_type": "markdown",
      "source": [
        "## مقدمات برنامه نویسی در پایتون"
      ],
      "metadata": {
        "id": "CcsGYNZdLwww"
      }
    },
    {
      "cell_type": "markdown",
      "source": [],
      "metadata": {
        "id": "mqfVOfUQJ_KH"
      }
    },
    {
      "cell_type": "code",
      "source": [
        "type(3)"
      ],
      "metadata": {
        "id": "wW4uFShpL51Y",
        "colab": {
          "base_uri": "https://localhost:8080/"
        },
        "outputId": "8c8dc8d7-52d7-4bed-9d59-bb6269c7d26d"
      },
      "execution_count": null,
      "outputs": [
        {
          "output_type": "execute_result",
          "data": {
            "text/plain": [
              "int"
            ]
          },
          "metadata": {},
          "execution_count": 3
        }
      ]
    },
    {
      "cell_type": "code",
      "source": [
        "type(True)"
      ],
      "metadata": {
        "id": "0i-96JleL6tI"
      },
      "execution_count": null,
      "outputs": []
    },
    {
      "cell_type": "code",
      "source": [
        "bool(1)"
      ],
      "metadata": {
        "id": "38TrayIoL-CY"
      },
      "execution_count": null,
      "outputs": []
    },
    {
      "cell_type": "code",
      "source": [
        "int(1.999)"
      ],
      "metadata": {
        "id": "aX8XGaUmMA2o"
      },
      "execution_count": null,
      "outputs": []
    },
    {
      "cell_type": "code",
      "source": [
        "float(5)"
      ],
      "metadata": {
        "id": "vfhXDsMcMDYx"
      },
      "execution_count": null,
      "outputs": []
    },
    {
      "cell_type": "code",
      "source": [
        "str(5.6)"
      ],
      "metadata": {
        "id": "8pwGZKj6MH3w"
      },
      "execution_count": null,
      "outputs": []
    },
    {
      "cell_type": "code",
      "source": [
        "int(float('3.45'))"
      ],
      "metadata": {
        "id": "1qZTX6TBMIjh"
      },
      "execution_count": null,
      "outputs": []
    },
    {
      "cell_type": "code",
      "source": [
        "float('56.45')"
      ],
      "metadata": {
        "id": "h-jGuA_5MLMH"
      },
      "execution_count": null,
      "outputs": []
    },
    {
      "cell_type": "code",
      "source": [
        "type('45.566')"
      ],
      "metadata": {
        "id": "Sd8GqqXeMOcv"
      },
      "execution_count": null,
      "outputs": []
    },
    {
      "cell_type": "code",
      "source": [
        "A='ali is the best'"
      ],
      "metadata": {
        "id": "JQf4e29FMQ4_"
      },
      "execution_count": null,
      "outputs": []
    },
    {
      "cell_type": "code",
      "source": [
        "type(A)"
      ],
      "metadata": {
        "id": "lrREyUg8MX7P"
      },
      "execution_count": null,
      "outputs": []
    },
    {
      "cell_type": "code",
      "source": [
        "print(len(A))\n",
        "print(A[5])\n",
        "print(A[-1])\n",
        "print(A[::2])\n",
        "print(A[0:9:2])\n",
        "print(A[4:15])"
      ],
      "metadata": {
        "id": "1syqPXygMbDP"
      },
      "execution_count": null,
      "outputs": []
    },
    {
      "cell_type": "code",
      "source": [
        "B=A.replace('best', 'worst')"
      ],
      "metadata": {
        "id": "fJANFUBKMeLr"
      },
      "execution_count": null,
      "outputs": []
    },
    {
      "cell_type": "code",
      "source": [
        "B.find('wors')"
      ],
      "metadata": {
        "id": "nrCL9AQQMlM4"
      },
      "execution_count": null,
      "outputs": []
    },
    {
      "cell_type": "code",
      "source": [
        "C=A.upper()"
      ],
      "metadata": {
        "id": "2cV4ZhKzMl4H"
      },
      "execution_count": null,
      "outputs": []
    },
    {
      "cell_type": "code",
      "source": [
        "A = [1, 2, 3]"
      ],
      "metadata": {
        "id": "WGdxkx8jMmBP"
      },
      "execution_count": null,
      "outputs": []
    },
    {
      "cell_type": "code",
      "source": [
        "type(A)"
      ],
      "metadata": {
        "id": "Wa9cG7IMMmJ3"
      },
      "execution_count": null,
      "outputs": []
    },
    {
      "cell_type": "code",
      "source": [
        "import numpy as np\n",
        "A = np.array(A)"
      ],
      "metadata": {
        "id": "xImwmFrjMmOC"
      },
      "execution_count": null,
      "outputs": []
    },
    {
      "cell_type": "code",
      "source": [
        "def f(x,y):\n",
        "  z=np.exp(x+y)\n",
        "  return z"
      ],
      "metadata": {
        "id": "bK9L0tz-MmRa"
      },
      "execution_count": null,
      "outputs": []
    },
    {
      "cell_type": "code",
      "source": [
        "z=f(2,3)"
      ],
      "metadata": {
        "id": "XVtY-lUEM1Xp"
      },
      "execution_count": null,
      "outputs": []
    },
    {
      "cell_type": "code",
      "source": [
        "print(np.pi)"
      ],
      "metadata": {
        "id": "YU6cCFY8M1bI"
      },
      "execution_count": null,
      "outputs": []
    },
    {
      "cell_type": "code",
      "source": [
        "import matplotlib.pyplot as plt\n",
        "x = np.linspace(0, 2*np.pi, 100)\n",
        "y = np.sin(x)\n",
        "z = np.cos(x)\n",
        "plt.plot(x,y)\n",
        "plt.xlabel(\"x\")\n",
        "plt.ylabel('$\\sin(x)$')\n",
        "plt.plot(x,z)\n",
        "plt.show()"
      ],
      "metadata": {
        "id": "vMvHNb3oM1eY"
      },
      "execution_count": null,
      "outputs": []
    },
    {
      "cell_type": "code",
      "source": [
        "x=np.random.uniform(0, 2*np.pi, 100)\n",
        "t = np.sort(x)\n",
        "y = np.sin(t)\n",
        "plt.plot(t, y)\n",
        "plt.show()"
      ],
      "metadata": {
        "id": "vN4yN80ZM1hX"
      },
      "execution_count": null,
      "outputs": []
    },
    {
      "cell_type": "code",
      "source": [
        "x=np.random.uniform(0, 1, 10)\n",
        "y = x / np.sum(x)\n",
        "print(x)"
      ],
      "metadata": {
        "colab": {
          "base_uri": "https://localhost:8080/"
        },
        "id": "VlKhzwvj6FHH",
        "outputId": "2f8847bc-e4ea-4759-823d-34005a4150c5"
      },
      "execution_count": null,
      "outputs": [
        {
          "output_type": "stream",
          "name": "stdout",
          "text": [
            "[0.85896839 0.47949315 0.41567642 0.94679813 0.79542397 0.54587946\n",
            " 0.48923466 0.89894161 0.97370273 0.65111854]\n"
          ]
        }
      ]
    },
    {
      "cell_type": "code",
      "source": [
        "c = np.sum(x)"
      ],
      "metadata": {
        "id": "2_DdzHBR6mJ1"
      },
      "execution_count": null,
      "outputs": []
    },
    {
      "cell_type": "code",
      "source": [
        "y = x/c"
      ],
      "metadata": {
        "id": "AVpe4u3o6qUe"
      },
      "execution_count": null,
      "outputs": []
    },
    {
      "cell_type": "code",
      "source": [
        "print(y)"
      ],
      "metadata": {
        "colab": {
          "base_uri": "https://localhost:8080/"
        },
        "id": "pw-7IfiW7Je9",
        "outputId": "2c67b21d-7a9b-4948-8506-44f0755ccd0d"
      },
      "execution_count": null,
      "outputs": [
        {
          "output_type": "stream",
          "name": "stdout",
          "text": [
            "[0.01499626 0.2029696  0.28089471 0.02878547 0.13399102 0.17480387\n",
            " 0.04931883 0.03601128 0.06505204 0.01317692]\n"
          ]
        }
      ]
    },
    {
      "cell_type": "code",
      "source": [
        "np.sum(y)"
      ],
      "metadata": {
        "colab": {
          "base_uri": "https://localhost:8080/"
        },
        "id": "WMEpHEqj7Qel",
        "outputId": "bae85902-e6e8-4f9f-cfb9-e6a0e41d077c"
      },
      "execution_count": null,
      "outputs": [
        {
          "output_type": "execute_result",
          "data": {
            "text/plain": [
              "1.0"
            ]
          },
          "metadata": {},
          "execution_count": 14
        }
      ]
    },
    {
      "cell_type": "code",
      "source": [
        "print(range(10))"
      ],
      "metadata": {
        "id": "MRGn8lSs7TPq",
        "outputId": "28d99590-1294-47b4-b037-e6e2ad67383f",
        "colab": {
          "base_uri": "https://localhost:8080/"
        }
      },
      "execution_count": null,
      "outputs": [
        {
          "output_type": "stream",
          "name": "stdout",
          "text": [
            "range(0, 10)\n"
          ]
        }
      ]
    },
    {
      "cell_type": "code",
      "source": [],
      "metadata": {
        "id": "Goz0ZJ6f35NC"
      },
      "execution_count": null,
      "outputs": []
    }
  ]
}
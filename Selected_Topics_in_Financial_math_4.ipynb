{
  "nbformat": 4,
  "nbformat_minor": 0,
  "metadata": {
    "colab": {
      "provenance": [],
      "authorship_tag": "ABX9TyPx82EoaMlzXFjjTzDMZ/Vl",
      "include_colab_link": true
    },
    "kernelspec": {
      "name": "python3",
      "display_name": "Python 3"
    },
    "language_info": {
      "name": "python"
    }
  },
  "cells": [
    {
      "cell_type": "markdown",
      "metadata": {
        "id": "view-in-github",
        "colab_type": "text"
      },
      "source": [
        "<a href=\"https://colab.research.google.com/github/Saeed-upm/Selected-Topics-in-Financial-Mathematics/blob/main/Selected_Topics_in_Financial_math_4.ipynb\" target=\"_parent\"><img src=\"https://colab.research.google.com/assets/colab-badge.svg\" alt=\"Open In Colab\"/></a>"
      ]
    },
    {
      "cell_type": "markdown",
      "source": [
        "## Conditional Value at Risk CVaR"
      ],
      "metadata": {
        "id": "7If7ejZKKBKf"
      }
    },
    {
      "cell_type": "code",
      "execution_count": null,
      "metadata": {
        "id": "-_W2Bokite2O",
        "colab": {
          "base_uri": "https://localhost:8080/"
        },
        "outputId": "b943d584-00be-41af-966e-8c9f13bfce32"
      },
      "outputs": [
        {
          "output_type": "stream",
          "name": "stdout",
          "text": [
            "\r[*********************100%%**********************]  1 of 1 completed\n",
            "Value at Risk for SPY= -0.018218828836804864\n",
            "Conditional Value at Risk for SPY= -0.030027810316197667\n"
          ]
        }
      ],
      "source": [
        "import numpy as np\n",
        "import pandas as pd\n",
        "import datetime as dt\n",
        "import yfinance as yf\n",
        "import matplotlib.pyplot as plt\n",
        "from scipy.stats import norm\n",
        "\n",
        "years = 15\n",
        "endDate = dt.datetime.now()\n",
        "startDate = endDate - dt.timedelta(days = 365*years)\n",
        "\n",
        "### Create a list of tickers\n",
        "tickers = ['SPY']\n",
        "adj_close_df = pd.DataFrame()\n",
        "\n",
        "for ticker in tickers:\n",
        "    data = yf.download(ticker, start = startDate, end = endDate)\n",
        "    adj_close_df[ticker] = data['Adj Close']\n",
        "log_returns = np.log(adj_close_df/adj_close_df.shift(1))\n",
        "log_returns  = log_returns.dropna()\n",
        "confidence_interval = 0.95\n",
        "VaR = np.percentile(log_returns, 100 * (1 - confidence_interval))\n",
        "sorted_returns = np.sort(log_returns, axis=0)\n",
        "abs_diff_sort_rutrn_VaR = np.abs(sorted_returns-VaR)\n",
        "ind1 = np.argmin(abs_diff_sort_rutrn_VaR)\n",
        "CVaR = np.sum(sorted_returns[:ind1+1])/len(sorted_returns[:ind1+1])\n",
        "print(\"Value at Risk for SPY=\", VaR)\n",
        "print(\"Conditional Value at Risk for SPY=\", CVaR)"
      ]
    },
    {
      "cell_type": "code",
      "source": [
        "import numpy as np\n",
        "import pandas as pd\n",
        "import datetime as dt\n",
        "import yfinance as yf\n",
        "import matplotlib.pyplot as plt\n",
        "from scipy.stats import norm\n",
        "\n",
        "years = 15\n",
        "endDate = dt.datetime.now()\n",
        "startDate = endDate - dt.timedelta(days = 365*years)\n",
        "\n",
        "### Create a list of tickers\n",
        "tickers = ['IBM']\n",
        "adj_close_df = pd.DataFrame()\n",
        "\n",
        "for ticker in tickers:\n",
        "    data = yf.download(ticker, start = startDate, end = endDate)\n",
        "    adj_close_df[ticker] = data['Adj Close']\n",
        "log_returns = np.log(adj_close_df/adj_close_df.shift(1))\n",
        "log_returns  = log_returns.dropna()\n",
        "confidence_interval = 0.95\n",
        "VaR = np.percentile(log_returns, 100 * (1 - confidence_interval))\n",
        "sorted_returns = np.sort(log_returns, axis=0)\n",
        "abs_diff_sort_rutrn_VaR = np.abs(sorted_returns-VaR)\n",
        "ind1 = np.argmin(abs_diff_sort_rutrn_VaR)\n",
        "CVaR = np.sum(sorted_returns[:ind1+1])/len(sorted_returns[:ind1+1])\n",
        "print(\"Value at Risk for IBM=\", VaR)\n",
        "print(\"Conditional Value at Risk for IBM=\", CVaR)"
      ],
      "metadata": {
        "colab": {
          "base_uri": "https://localhost:8080/"
        },
        "id": "WdaVYUdJut9U",
        "outputId": "322c2535-25d1-456e-fafa-98e8e8ce25d3"
      },
      "execution_count": null,
      "outputs": [
        {
          "output_type": "stream",
          "name": "stdout",
          "text": [
            "\r[*********************100%%**********************]  1 of 1 completed\n",
            "Value at Risk for IBM= -0.020634240987504767\n",
            "Conditional Value at Risk for IBM= -0.03611400788664671\n"
          ]
        }
      ]
    },
    {
      "cell_type": "code",
      "source": [],
      "metadata": {
        "colab": {
          "base_uri": "https://localhost:8080/"
        },
        "id": "ltMOJFSQw7w9",
        "outputId": "867d6f52-125a-4d8c-f37e-822b60a6a627"
      },
      "execution_count": null,
      "outputs": [
        {
          "output_type": "execute_result",
          "data": {
            "text/plain": [
              "numpy.ndarray"
            ]
          },
          "metadata": {},
          "execution_count": 10
        }
      ]
    },
    {
      "cell_type": "code",
      "source": [],
      "metadata": {
        "id": "I9jvx6dYuhVR"
      },
      "execution_count": null,
      "outputs": []
    }
  ]
}
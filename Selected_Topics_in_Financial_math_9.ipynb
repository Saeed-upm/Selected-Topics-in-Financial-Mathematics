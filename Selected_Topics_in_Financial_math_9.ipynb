{
  "nbformat": 4,
  "nbformat_minor": 0,
  "metadata": {
    "colab": {
      "provenance": [],
      "authorship_tag": "ABX9TyOhe2IbtVO9w988XnloguPH",
      "include_colab_link": true
    },
    "kernelspec": {
      "name": "python3",
      "display_name": "Python 3"
    },
    "language_info": {
      "name": "python"
    }
  },
  "cells": [
    {
      "cell_type": "markdown",
      "metadata": {
        "id": "view-in-github",
        "colab_type": "text"
      },
      "source": [
        "<a href=\"https://colab.research.google.com/github/Saeed-upm/Selected-Topics-in-Financial-Mathematics/blob/main/Selected_Topics_in_Financial_math_9.ipynb\" target=\"_parent\"><img src=\"https://colab.research.google.com/assets/colab-badge.svg\" alt=\"Open In Colab\"/></a>"
      ]
    },
    {
      "cell_type": "markdown",
      "source": [
        "##  بورس تهران"
      ],
      "metadata": {
        "id": "IXgaZozTsnvD"
      }
    },
    {
      "cell_type": "code",
      "source": [
        "pip install pytse-client"
      ],
      "metadata": {
        "colab": {
          "base_uri": "https://localhost:8080/"
        },
        "id": "XrK8brDyHZTY",
        "outputId": "688656c8-8d68-424b-ed62-acb31aa8db51"
      },
      "execution_count": 1,
      "outputs": [
        {
          "output_type": "stream",
          "name": "stdout",
          "text": [
            "Collecting pytse-client\n",
            "  Downloading pytse_client-0.17.1-py3-none-any.whl (118 kB)\n",
            "\u001b[2K     \u001b[90m━━━━━━━━━━━━━━━━━━━━━━━━━━━━━━━━━━━━━━━━\u001b[0m \u001b[32m118.8/118.8 kB\u001b[0m \u001b[31m1.9 MB/s\u001b[0m eta \u001b[36m0:00:00\u001b[0m\n",
            "\u001b[?25hRequirement already satisfied: aiohttp<4.0.0,>=3.7.4 in /usr/local/lib/python3.10/dist-packages (from pytse-client) (3.9.1)\n",
            "Requirement already satisfied: beautifulsoup4<5.0.0,>=4.9.3 in /usr/local/lib/python3.10/dist-packages (from pytse-client) (4.11.2)\n",
            "Collecting black<23.0.0,>=22.6.0 (from pytse-client)\n",
            "  Downloading black-22.12.0-cp310-cp310-manylinux_2_17_x86_64.manylinux2014_x86_64.whl (1.6 MB)\n",
            "\u001b[2K     \u001b[90m━━━━━━━━━━━━━━━━━━━━━━━━━━━━━━━━━━━━━━━━\u001b[0m \u001b[32m1.6/1.6 MB\u001b[0m \u001b[31m15.1 MB/s\u001b[0m eta \u001b[36m0:00:00\u001b[0m\n",
            "\u001b[?25hCollecting jdatetime<4.0.0,>=3.6.2 (from pytse-client)\n",
            "  Downloading jdatetime-3.8.2-py3-none-any.whl (13 kB)\n",
            "Requirement already satisfied: lxml<5.0.0,>=4.6.3 in /usr/local/lib/python3.10/dist-packages (from pytse-client) (4.9.3)\n",
            "Requirement already satisfied: pandas in /usr/local/lib/python3.10/dist-packages (from pytse-client) (1.5.3)\n",
            "Requirement already satisfied: requests<3.0.0,>=2.23.0 in /usr/local/lib/python3.10/dist-packages (from pytse-client) (2.31.0)\n",
            "Collecting tenacity<8.0.0,>=7.0.0 (from pytse-client)\n",
            "  Downloading tenacity-7.0.0-py2.py3-none-any.whl (23 kB)\n",
            "Requirement already satisfied: attrs>=17.3.0 in /usr/local/lib/python3.10/dist-packages (from aiohttp<4.0.0,>=3.7.4->pytse-client) (23.1.0)\n",
            "Requirement already satisfied: multidict<7.0,>=4.5 in /usr/local/lib/python3.10/dist-packages (from aiohttp<4.0.0,>=3.7.4->pytse-client) (6.0.4)\n",
            "Requirement already satisfied: yarl<2.0,>=1.0 in /usr/local/lib/python3.10/dist-packages (from aiohttp<4.0.0,>=3.7.4->pytse-client) (1.9.4)\n",
            "Requirement already satisfied: frozenlist>=1.1.1 in /usr/local/lib/python3.10/dist-packages (from aiohttp<4.0.0,>=3.7.4->pytse-client) (1.4.1)\n",
            "Requirement already satisfied: aiosignal>=1.1.2 in /usr/local/lib/python3.10/dist-packages (from aiohttp<4.0.0,>=3.7.4->pytse-client) (1.3.1)\n",
            "Requirement already satisfied: async-timeout<5.0,>=4.0 in /usr/local/lib/python3.10/dist-packages (from aiohttp<4.0.0,>=3.7.4->pytse-client) (4.0.3)\n",
            "Requirement already satisfied: soupsieve>1.2 in /usr/local/lib/python3.10/dist-packages (from beautifulsoup4<5.0.0,>=4.9.3->pytse-client) (2.5)\n",
            "Requirement already satisfied: click>=8.0.0 in /usr/local/lib/python3.10/dist-packages (from black<23.0.0,>=22.6.0->pytse-client) (8.1.7)\n",
            "Collecting mypy-extensions>=0.4.3 (from black<23.0.0,>=22.6.0->pytse-client)\n",
            "  Downloading mypy_extensions-1.0.0-py3-none-any.whl (4.7 kB)\n",
            "Collecting pathspec>=0.9.0 (from black<23.0.0,>=22.6.0->pytse-client)\n",
            "  Downloading pathspec-0.12.1-py3-none-any.whl (31 kB)\n",
            "Requirement already satisfied: platformdirs>=2 in /usr/local/lib/python3.10/dist-packages (from black<23.0.0,>=22.6.0->pytse-client) (4.1.0)\n",
            "Requirement already satisfied: tomli>=1.1.0 in /usr/local/lib/python3.10/dist-packages (from black<23.0.0,>=22.6.0->pytse-client) (2.0.1)\n",
            "Requirement already satisfied: charset-normalizer<4,>=2 in /usr/local/lib/python3.10/dist-packages (from requests<3.0.0,>=2.23.0->pytse-client) (3.3.2)\n",
            "Requirement already satisfied: idna<4,>=2.5 in /usr/local/lib/python3.10/dist-packages (from requests<3.0.0,>=2.23.0->pytse-client) (3.6)\n",
            "Requirement already satisfied: urllib3<3,>=1.21.1 in /usr/local/lib/python3.10/dist-packages (from requests<3.0.0,>=2.23.0->pytse-client) (2.0.7)\n",
            "Requirement already satisfied: certifi>=2017.4.17 in /usr/local/lib/python3.10/dist-packages (from requests<3.0.0,>=2.23.0->pytse-client) (2023.11.17)\n",
            "Requirement already satisfied: six>=1.9.0 in /usr/local/lib/python3.10/dist-packages (from tenacity<8.0.0,>=7.0.0->pytse-client) (1.16.0)\n",
            "Requirement already satisfied: python-dateutil>=2.8.1 in /usr/local/lib/python3.10/dist-packages (from pandas->pytse-client) (2.8.2)\n",
            "Requirement already satisfied: pytz>=2020.1 in /usr/local/lib/python3.10/dist-packages (from pandas->pytse-client) (2023.3.post1)\n",
            "Requirement already satisfied: numpy>=1.21.0 in /usr/local/lib/python3.10/dist-packages (from pandas->pytse-client) (1.23.5)\n",
            "Installing collected packages: jdatetime, tenacity, pathspec, mypy-extensions, black, pytse-client\n",
            "  Attempting uninstall: tenacity\n",
            "    Found existing installation: tenacity 8.2.3\n",
            "    Uninstalling tenacity-8.2.3:\n",
            "      Successfully uninstalled tenacity-8.2.3\n",
            "Successfully installed black-22.12.0 jdatetime-3.8.2 mypy-extensions-1.0.0 pathspec-0.12.1 pytse-client-0.17.1 tenacity-7.0.0\n"
          ]
        }
      ]
    },
    {
      "cell_type": "code",
      "source": [
        "import numpy as np\n",
        "price = np.random.normal(0,1,40)"
      ],
      "metadata": {
        "id": "0jJsCg0veJvf"
      },
      "execution_count": 2,
      "outputs": []
    },
    {
      "cell_type": "code",
      "source": [
        "rate = np.zeros(39)"
      ],
      "metadata": {
        "id": "VSU3bJXOeXh8"
      },
      "execution_count": 3,
      "outputs": []
    },
    {
      "cell_type": "code",
      "source": [
        "for i in range(39):\n",
        "  rate[i] = (price[i+1]-price[i])/price[i]"
      ],
      "metadata": {
        "id": "CNApAi57ebF7"
      },
      "execution_count": 4,
      "outputs": []
    },
    {
      "cell_type": "code",
      "source": [
        "std = np.zeros(36)"
      ],
      "metadata": {
        "id": "QZmWd0yulCyh"
      },
      "execution_count": 5,
      "outputs": []
    },
    {
      "cell_type": "code",
      "source": [
        "for i in range(36):\n",
        "  std[i] = np.std(rate[i:i+5])\n"
      ],
      "metadata": {
        "id": "1MRvooAnfmpa"
      },
      "execution_count": 6,
      "outputs": []
    },
    {
      "cell_type": "code",
      "source": [
        "std"
      ],
      "metadata": {
        "colab": {
          "base_uri": "https://localhost:8080/"
        },
        "id": "OvNganGkfol9",
        "outputId": "d099c05e-6b8e-43f6-90a8-2698564f3927"
      },
      "execution_count": 7,
      "outputs": [
        {
          "output_type": "execute_result",
          "data": {
            "text/plain": [
              "array([14.26720696, 14.17929319, 14.45847597, 14.41125718, 28.79977331,\n",
              "       28.97260861, 29.23870776, 29.23308756, 29.21637975,  3.36809239,\n",
              "        3.23246549,  2.95544631,  6.02195244,  6.14316722,  6.20130133,\n",
              "        6.0890166 ,  6.45921347,  2.2258046 ,  2.17610861,  2.17436166,\n",
              "        1.22670447,  1.91091683,  1.95017847,  4.69584214,  4.7248712 ,\n",
              "        4.66293337,  5.0537951 ,  5.01662138,  1.15029694,  1.26108151,\n",
              "        4.78038613,  4.54868454,  4.56942459,  4.68759727, 10.44187629,\n",
              "       11.48295876])"
            ]
          },
          "metadata": {},
          "execution_count": 7
        }
      ]
    },
    {
      "cell_type": "code",
      "source": [
        "print(rate)"
      ],
      "metadata": {
        "colab": {
          "base_uri": "https://localhost:8080/"
        },
        "id": "1B1fH1ZjfrII",
        "outputId": "bbfe451f-6554-433f-cec1-c34eedca2e99"
      },
      "execution_count": 8,
      "outputs": [
        {
          "output_type": "stream",
          "name": "stdout",
          "text": [
            "[-1.02881106e+00 -3.57041984e+00 -5.18221747e-01 -3.72483957e+01\n",
            " -1.58005537e+00 -1.87101597e+00 -5.41399470e-01 -9.63388214e-01\n",
            " -7.32290365e+01  1.14105800e-01  8.00458864e-01 -5.99258411e-01\n",
            " -1.14106177e+00 -8.46596463e+00 -1.65581646e+00 -1.10298065e+00\n",
            " -1.64431917e+01 -3.91842381e-01 -7.49684313e-01 -5.35881304e+00\n",
            "  1.37024160e+00 -1.50752723e+00 -1.53427692e+00 -7.73530143e-01\n",
            " -2.15888582e+00 -6.14316003e+00 -1.14968770e+00 -1.32844529e+01\n",
            " -6.02473313e-01 -2.80481683e+00  6.94124082e-01 -1.59499847e+00\n",
            " -1.06180163e+00  2.28351831e-01 -1.22025568e+01 -1.32771566e+00\n",
            " -1.31811667e+00  2.76215785e-02 -2.73609067e+01]\n"
          ]
        }
      ]
    },
    {
      "cell_type": "code",
      "source": [
        "import pytse_client as tse\n",
        "from pytse_client.download import download_financial_indexes\n",
        "#download_financial_indexes(symbols=[\"شاخص قيمت 50 شركت\", \"فني مهندسي\"], write_to_csv=True, include_jdate=True)\n",
        "df = tse.FinancialIndex(symbol=\"شاخص کل\").history\n",
        "#tse.FinancialIndex(symbol=\"شاخص کل\").intraday_pric"
      ],
      "metadata": {
        "id": "HfZyQk8Sfw4Q"
      },
      "execution_count": null,
      "outputs": []
    },
    {
      "cell_type": "code",
      "source": [],
      "metadata": {
        "id": "L-PYVEU97re8"
      },
      "execution_count": null,
      "outputs": []
    }
  ]
}
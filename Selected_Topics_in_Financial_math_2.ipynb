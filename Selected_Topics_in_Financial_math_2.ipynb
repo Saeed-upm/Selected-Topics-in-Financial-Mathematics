{
  "nbformat": 4,
  "nbformat_minor": 0,
  "metadata": {
    "colab": {
      "provenance": [],
      "authorship_tag": "ABX9TyMn/OpdA901D72+kJgTM+oI",
      "include_colab_link": true
    },
    "kernelspec": {
      "name": "python3",
      "display_name": "Python 3"
    },
    "language_info": {
      "name": "python"
    }
  },
  "cells": [
    {
      "cell_type": "markdown",
      "metadata": {
        "id": "view-in-github",
        "colab_type": "text"
      },
      "source": [
        "<a href=\"https://colab.research.google.com/github/Saeed-upm/Selected-Topics-in-Financial-Mathematics/blob/main/Selected_Topics_in_Financial_math_2.ipynb\" target=\"_parent\"><img src=\"https://colab.research.google.com/assets/colab-badge.svg\" alt=\"Open In Colab\"/></a>"
      ]
    },
    {
      "cell_type": "code",
      "source": [
        "pip install yfinance"
      ],
      "metadata": {
        "colab": {
          "base_uri": "https://localhost:8080/"
        },
        "id": "bJuFcY6gYISe",
        "outputId": "22fa0679-7dbc-4950-ae12-dc5ad7263a7c"
      },
      "execution_count": null,
      "outputs": [
        {
          "output_type": "stream",
          "name": "stdout",
          "text": [
            "Requirement already satisfied: yfinance in /usr/local/lib/python3.10/dist-packages (0.2.30)\n",
            "Requirement already satisfied: pandas>=1.3.0 in /usr/local/lib/python3.10/dist-packages (from yfinance) (1.5.3)\n",
            "Requirement already satisfied: numpy>=1.16.5 in /usr/local/lib/python3.10/dist-packages (from yfinance) (1.23.5)\n",
            "Requirement already satisfied: requests>=2.31 in /usr/local/lib/python3.10/dist-packages (from yfinance) (2.31.0)\n",
            "Requirement already satisfied: multitasking>=0.0.7 in /usr/local/lib/python3.10/dist-packages (from yfinance) (0.0.11)\n",
            "Requirement already satisfied: lxml>=4.9.1 in /usr/local/lib/python3.10/dist-packages (from yfinance) (4.9.3)\n",
            "Requirement already satisfied: appdirs>=1.4.4 in /usr/local/lib/python3.10/dist-packages (from yfinance) (1.4.4)\n",
            "Requirement already satisfied: pytz>=2022.5 in /usr/local/lib/python3.10/dist-packages (from yfinance) (2023.3.post1)\n",
            "Requirement already satisfied: frozendict>=2.3.4 in /usr/local/lib/python3.10/dist-packages (from yfinance) (2.3.8)\n",
            "Requirement already satisfied: peewee>=3.16.2 in /usr/local/lib/python3.10/dist-packages (from yfinance) (3.16.3)\n",
            "Requirement already satisfied: beautifulsoup4>=4.11.1 in /usr/local/lib/python3.10/dist-packages (from yfinance) (4.11.2)\n",
            "Requirement already satisfied: html5lib>=1.1 in /usr/local/lib/python3.10/dist-packages (from yfinance) (1.1)\n",
            "Requirement already satisfied: soupsieve>1.2 in /usr/local/lib/python3.10/dist-packages (from beautifulsoup4>=4.11.1->yfinance) (2.5)\n",
            "Requirement already satisfied: six>=1.9 in /usr/local/lib/python3.10/dist-packages (from html5lib>=1.1->yfinance) (1.16.0)\n",
            "Requirement already satisfied: webencodings in /usr/local/lib/python3.10/dist-packages (from html5lib>=1.1->yfinance) (0.5.1)\n",
            "Requirement already satisfied: python-dateutil>=2.8.1 in /usr/local/lib/python3.10/dist-packages (from pandas>=1.3.0->yfinance) (2.8.2)\n",
            "Requirement already satisfied: charset-normalizer<4,>=2 in /usr/local/lib/python3.10/dist-packages (from requests>=2.31->yfinance) (3.3.0)\n",
            "Requirement already satisfied: idna<4,>=2.5 in /usr/local/lib/python3.10/dist-packages (from requests>=2.31->yfinance) (3.4)\n",
            "Requirement already satisfied: urllib3<3,>=1.21.1 in /usr/local/lib/python3.10/dist-packages (from requests>=2.31->yfinance) (2.0.6)\n",
            "Requirement already satisfied: certifi>=2017.4.17 in /usr/local/lib/python3.10/dist-packages (from requests>=2.31->yfinance) (2023.7.22)\n"
          ]
        }
      ]
    },
    {
      "cell_type": "code",
      "execution_count": null,
      "metadata": {
        "colab": {
          "base_uri": "https://localhost:8080/"
        },
        "id": "tpVvfGVms8rU",
        "outputId": "1ccf82de-833a-4529-ab49-83eaed2b958e"
      },
      "outputs": [
        {
          "output_type": "stream",
          "name": "stdout",
          "text": [
            "\r[*********************100%%**********************]  1 of 1 completed\n"
          ]
        },
        {
          "output_type": "execute_result",
          "data": {
            "text/plain": [
              "<bound method NDFrame.head of                   Open        High         Low       Close   Adj Close  \\\n",
              "Date                                                                     \n",
              "2021-05-05  227.020004  228.433334  222.446671  223.646667  223.646667   \n",
              "2021-05-06  226.919998  227.006668  216.666672  221.179993  221.179993   \n",
              "2021-05-07  221.933334  230.000000  220.073334  224.123337  224.123337   \n",
              "2021-05-10  221.633331  221.683334  209.203339  209.679993  209.679993   \n",
              "2021-05-11  199.746674  209.033340  198.533340  205.733337  205.733337   \n",
              "...                ...         ...         ...         ...         ...   \n",
              "2023-10-02  244.809998  254.279999  242.619995  251.600006  251.600006   \n",
              "2023-10-03  248.610001  250.020004  244.449997  246.529999  246.529999   \n",
              "2023-10-04  248.139999  261.859985  247.600006  261.160004  261.160004   \n",
              "2023-10-05  260.000000  263.600006  256.250000  260.049988  260.049988   \n",
              "2023-10-06  253.979996  261.649994  250.649994  260.529999  260.529999   \n",
              "\n",
              "               Volume  \n",
              "Date                   \n",
              "2021-05-05   65705700  \n",
              "2021-05-06   83353800  \n",
              "2021-05-07   70407600  \n",
              "2021-05-10   94177200  \n",
              "2021-05-11  139511700  \n",
              "...               ...  \n",
              "2023-10-02  123810400  \n",
              "2023-10-03  101985300  \n",
              "2023-10-04  129721600  \n",
              "2023-10-05  119159200  \n",
              "2023-10-06  117947000  \n",
              "\n",
              "[611 rows x 6 columns]>"
            ]
          },
          "metadata": {},
          "execution_count": 5
        }
      ],
      "source": [
        "import numpy as np\n",
        "import yfinance as yf\n",
        "import matplotlib.pyplot as plt\n",
        "tesla=yf.download('TSLA', start='2021-05-05')\n",
        "tesla.head"
      ]
    },
    {
      "cell_type": "code",
      "source": [
        "open_price = tesla[\"Open\"]"
      ],
      "metadata": {
        "id": "UWghJXpAWixr"
      },
      "execution_count": null,
      "outputs": []
    },
    {
      "cell_type": "code",
      "source": [
        "print(open_price)"
      ],
      "metadata": {
        "colab": {
          "base_uri": "https://localhost:8080/"
        },
        "id": "sDze-nkjPnNA",
        "outputId": "0e398539-5018-45d7-e07c-1f8ab808b5e0"
      },
      "execution_count": null,
      "outputs": [
        {
          "output_type": "stream",
          "name": "stdout",
          "text": [
            "Date\n",
            "2021-05-05    227.020004\n",
            "2021-05-06    226.919998\n",
            "2021-05-07    221.933334\n",
            "2021-05-10    221.633331\n",
            "2021-05-11    199.746674\n",
            "                 ...    \n",
            "2023-10-02    244.809998\n",
            "2023-10-03    248.610001\n",
            "2023-10-04    248.139999\n",
            "2023-10-05    260.000000\n",
            "2023-10-06    253.979996\n",
            "Name: Open, Length: 611, dtype: float64\n"
          ]
        }
      ]
    },
    {
      "cell_type": "code",
      "source": [],
      "metadata": {
        "id": "oJWNzeaNQCZh"
      },
      "execution_count": null,
      "outputs": []
    }
  ]
}